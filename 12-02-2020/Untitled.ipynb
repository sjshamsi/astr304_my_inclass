{
 "cells": [
  {
   "cell_type": "code",
   "execution_count": 8,
   "metadata": {},
   "outputs": [
    {
     "data": {
      "text/plain": [
       "[10, 20, 40, 80, 160, 320, 640, 1280, 2560, 5120]"
      ]
     },
     "execution_count": 8,
     "metadata": {},
     "output_type": "execute_result"
    }
   ],
   "source": [
    "[10* 2 ** x for x in range(0,10)]"
   ]
  },
  {
   "cell_type": "code",
   "execution_count": 18,
   "metadata": {},
   "outputs": [
    {
     "name": "stdout",
     "output_type": "stream",
     "text": [
      "4.400000000004267\n"
     ]
    },
    {
     "data": {
      "image/png": "[encoded data removed]",
      "text/plain": [
       "<Figure size 432x288 with 1 Axes>"
      ]
     },
     "metadata": {
      "needs_background": "light"
     },
     "output_type": "display_data"
    }
   ],
   "source": [
    "\n",
    "import numpy as np\n",
    "import matplotlib.pyplot as plt\n",
    "\n",
    "# In[22]:\n",
    "\n",
    "\n",
    "def f(x):\n",
    "\tval=x**4-2*x+1\n",
    "\treturn val\n",
    "\n",
    "def trapezoid(f,a,b,N):\n",
    "    h = (b-a)/N\n",
    "    fa = f(a)\n",
    "    fb = f(b)\n",
    "    y = 0\n",
    "    for i in range(1,N,2):\n",
    "        y += (f(a+i*h)+f(a+(i+1)*h))\n",
    "    s = h*(.5*fa + .5*fb + y)\n",
    "    return s\n",
    "        \n",
    "    \n",
    "        \n",
    "def simpson(f,a,b,N):\n",
    "    h = (b-a)/N\n",
    "    fa = f(a)\n",
    "    fb = f(b)\n",
    "    y1 = 0\n",
    "    y2 = 0\n",
    "    for i in range(1,N,2):\n",
    "        y1+= f(a+i*h)\n",
    "    for i in range(2,N-1,2):\n",
    "        y2 += f(a+i*h)\n",
    "    s = 1/3*h*(fa + fb + 4*y1 + 2*y2)\n",
    "    return s\n",
    "        \n",
    "    \n",
    "    \n",
    "\n",
    "\n",
    "# In[23]:\n",
    "\n",
    "\n",
    "print(simpson(f,0,2,1000))\n",
    "\n",
    "\n",
    "# In[ ]:\n",
    "\n",
    "def error(f,a,b):\n",
    "    N = [10* 2 ** x for x in range(0,10)]\n",
    "    I = list(map(lambda n: trapezoid(f,a,b,n), N))\n",
    "    Is= list(map(lambda n: simpson(f,a,b,n), N))\n",
    "    e = []\n",
    "    e_simpson = []\n",
    "    for k in range(len(I)-1):\n",
    "        e_n = I[k+1]-I[k]\n",
    "        e.append(np.abs(1/3*e_n))\n",
    "        e_n_sim = Is[k+1]-Is[k]\n",
    "        e_simpson.append(1/15*e_n_sim)\n",
    "        \n",
    "        \n",
    "    plt.plot(N[1:],e,color='c')\n",
    "    plt.plot(N[1:],e_simpson,color='r')\n",
    "    plt.xscale('log')\n",
    "    plt.show()\n",
    "    \n",
    "error(f,0,2)   "
   ]
  },
  {
   "cell_type": "code",
   "execution_count": null,
   "metadata": {},
   "outputs": [],
   "source": []
  }
 ],
 "metadata": {
  "kernelspec": {
   "display_name": "Python 3",
   "language": "python",
   "name": "python3"
  },
  "language_info": {
   "codemirror_mode": {
    "name": "ipython",
    "version": 3
   },
   "file_extension": ".py",
   "mimetype": "text/x-python",
   "name": "python",
   "nbconvert_exporter": "python",
   "pygments_lexer": "ipython3",
   "version": "3.7.6"
  }
 },
 "nbformat": 4,
 "nbformat_minor": 4
}
